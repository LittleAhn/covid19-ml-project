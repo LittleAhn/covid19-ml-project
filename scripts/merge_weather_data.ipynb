{
 "cells": [
  {
   "cell_type": "code",
   "execution_count": 2,
   "metadata": {},
   "outputs": [],
   "source": [
    "import pandas as pd\n",
    "import geopandas as gpd\n",
    "import pull_noaa\n",
    "import read_file\n",
    "import load_weather\n",
    "import load_interventions"
   ]
  },
  {
   "cell_type": "code",
   "execution_count": 3,
   "metadata": {},
   "outputs": [
    {
     "name": "stdout",
     "output_type": "stream",
     "text": [
      "reading...\n",
      "fixing date...\n"
     ]
    }
   ],
   "source": [
    "noaa = pull_noaa.main()\n",
    "noaa = noaa[['date', 'PRCP', 'TMAX', 'TMIN', 'lat', 'lon']]"
   ]
  },
  {
   "cell_type": "code",
   "execution_count": 4,
   "metadata": {},
   "outputs": [],
   "source": [
    "interventions = load_interventions.read_file()\n",
    "interventions = interventions[['FIPS', 'AREA_NAME']]"
   ]
  },
  {
   "cell_type": "code",
   "execution_count": 5,
   "metadata": {},
   "outputs": [],
   "source": [
    "mobility = pd.read_csv('../data_intermediate/us_mobility.csv')\n",
    "mobility = mobility[['CountyName', 'fips']]"
   ]
  },
  {
   "cell_type": "code",
   "execution_count": 6,
   "metadata": {},
   "outputs": [],
   "source": [
    "shape = gpd.read_file('../data_raw/tl_2017_us_county/tl_2017_us_county.shp')\n",
    "shape = shape[['NAMELSAD', 'geometry']]"
   ]
  },
  {
   "cell_type": "code",
   "execution_count": 7,
   "metadata": {},
   "outputs": [],
   "source": [
    "interventions.AREA_NAME = interventions.AREA_NAME.str.upper()\n",
    "shape.NAMELSAD = shape.NAMELSAD.str.upper()\n",
    "noaa.lat = pd.to_numeric(noaa.lat)\n",
    "noaa.lon = pd.to_numeric(noaa.lon)"
   ]
  },
  {
   "cell_type": "code",
   "execution_count": 8,
   "metadata": {},
   "outputs": [],
   "source": [
    "weather = shape.merge(interventions, how='left', left_on='NAMELSAD', right_on='AREA_NAME')\n",
    "weather = weather.merge(mobility, how='left', left_on='NAMELSAD', right_on='CountyName')\n",
    "weather = gpd.GeoDataFrame(weather, crs={'init': 'epsg:4326'}, geometry='geometry')\n",
    "noaa = gpd.GeoDataFrame(noaa, crs={'init': 'epsg:4326'}, geometry=gpd.points_from_xy(x=noaa.lon, y=noaa.lat))"
   ]
  },
  {
   "cell_type": "code",
   "execution_count": null,
   "metadata": {},
   "outputs": [],
   "source": [
    "weather = gpd.sjoin(weather, noaa, how='left', op='intersects')"
   ]
  },
  {
   "cell_type": "code",
   "execution_count": null,
   "metadata": {},
   "outputs": [],
   "source": [
    "weather = weather.fillna(weather.mean(), inplace=True)"
   ]
  },
  {
   "cell_type": "code",
   "execution_count": null,
   "metadata": {},
   "outputs": [],
   "source": [
    "weather.head(5)"
   ]
  },
  {
   "cell_type": "code",
   "execution_count": null,
   "metadata": {},
   "outputs": [],
   "source": []
  }
 ],
 "metadata": {
  "kernelspec": {
   "display_name": "Python 3",
   "language": "python",
   "name": "python3"
  },
  "language_info": {
   "codemirror_mode": {
    "name": "ipython",
    "version": 3
   },
   "file_extension": ".py",
   "mimetype": "text/x-python",
   "name": "python",
   "nbconvert_exporter": "python",
   "pygments_lexer": "ipython3",
   "version": "3.7.3"
  }
 },
 "nbformat": 4,
 "nbformat_minor": 2
}
