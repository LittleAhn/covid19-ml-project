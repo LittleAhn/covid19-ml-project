{
 "cells": [
  {
   "cell_type": "code",
   "execution_count": 23,
   "metadata": {},
   "outputs": [],
   "source": [
    "import pandas as pd\n",
    "import geopandas as gpd\n",
    "import pull_noaa\n",
    "import read_file\n",
    "import load_weather\n",
    "import load_interventions"
   ]
  },
  {
   "cell_type": "code",
   "execution_count": 24,
   "metadata": {},
   "outputs": [
    {
     "name": "stdout",
     "output_type": "stream",
     "text": [
      "reading...\n",
      "fixing date...\n"
     ]
    }
   ],
   "source": [
    "noaa = pull_noaa.main()\n",
    "noaa = noaa[['date', 'PRCP', 'TMAX', 'TMIN', 'lat', 'lon']]"
   ]
  },
  {
   "cell_type": "code",
   "execution_count": 28,
   "metadata": {},
   "outputs": [],
   "source": [
    "shape = gpd.read_file('../data_raw/tl_2017_us_county/tl_2017_us_county.shp')\n",
    "shape = shape[['GEOID', 'NAMELSAD', 'geometry']]"
   ]
  },
  {
   "cell_type": "code",
   "execution_count": 29,
   "metadata": {},
   "outputs": [],
   "source": [
    "shape.NAMELSAD = shape.NAMELSAD.str.upper()\n",
    "noaa.lat = pd.to_numeric(noaa.lat)\n",
    "noaa.lon = pd.to_numeric(noaa.lon)"
   ]
  },
  {
   "cell_type": "code",
   "execution_count": 30,
   "metadata": {},
   "outputs": [],
   "source": [
    "noaa = gpd.GeoDataFrame(noaa, crs={'init': 'epsg:4269'}, geometry=gpd.points_from_xy(x=noaa.lon, y=noaa.lat))"
   ]
  },
  {
   "cell_type": "code",
   "execution_count": 31,
   "metadata": {},
   "outputs": [],
   "source": [
    "noaa = noaa.fillna(noaa.mean())"
   ]
  },
  {
   "cell_type": "code",
   "execution_count": 32,
   "metadata": {
    "scrolled": true
   },
   "outputs": [],
   "source": [
    "weather = gpd.sjoin(noaa, shape, how='inner', op='intersects')"
   ]
  },
  {
   "cell_type": "code",
   "execution_count": 35,
   "metadata": {},
   "outputs": [
    {
     "data": {
      "text/html": [
       "<div>\n",
       "<style scoped>\n",
       "    .dataframe tbody tr th:only-of-type {\n",
       "        vertical-align: middle;\n",
       "    }\n",
       "\n",
       "    .dataframe tbody tr th {\n",
       "        vertical-align: top;\n",
       "    }\n",
       "\n",
       "    .dataframe thead th {\n",
       "        text-align: right;\n",
       "    }\n",
       "</style>\n",
       "<table border=\"1\" class=\"dataframe\">\n",
       "  <thead>\n",
       "    <tr style=\"text-align: right;\">\n",
       "      <th></th>\n",
       "      <th>Date</th>\n",
       "      <th>Precipitation</th>\n",
       "      <th>Tempreture_max</th>\n",
       "      <th>Tempreture_min</th>\n",
       "      <th>Latitude</th>\n",
       "      <th>Longitude</th>\n",
       "      <th>Geometry</th>\n",
       "      <th>Index_right</th>\n",
       "      <th>FIPS</th>\n",
       "      <th>CountyName</th>\n",
       "    </tr>\n",
       "  </thead>\n",
       "  <tbody>\n",
       "    <tr>\n",
       "      <th>6277</th>\n",
       "      <td>2020-02-15</td>\n",
       "      <td>130.0</td>\n",
       "      <td>290.0</td>\n",
       "      <td>256.0</td>\n",
       "      <td>-14.3306</td>\n",
       "      <td>-170.7136</td>\n",
       "      <td>POINT (-170.71360 -14.33060)</td>\n",
       "      <td>1791</td>\n",
       "      <td>60050</td>\n",
       "      <td>WESTERN DISTRICT</td>\n",
       "    </tr>\n",
       "    <tr>\n",
       "      <th>6278</th>\n",
       "      <td>2020-02-16</td>\n",
       "      <td>810.0</td>\n",
       "      <td>283.0</td>\n",
       "      <td>257.0</td>\n",
       "      <td>-14.3306</td>\n",
       "      <td>-170.7136</td>\n",
       "      <td>POINT (-170.71360 -14.33060)</td>\n",
       "      <td>1791</td>\n",
       "      <td>60050</td>\n",
       "      <td>WESTERN DISTRICT</td>\n",
       "    </tr>\n",
       "    <tr>\n",
       "      <th>6279</th>\n",
       "      <td>2020-02-17</td>\n",
       "      <td>831.0</td>\n",
       "      <td>290.0</td>\n",
       "      <td>251.0</td>\n",
       "      <td>-14.3306</td>\n",
       "      <td>-170.7136</td>\n",
       "      <td>POINT (-170.71360 -14.33060)</td>\n",
       "      <td>1791</td>\n",
       "      <td>60050</td>\n",
       "      <td>WESTERN DISTRICT</td>\n",
       "    </tr>\n",
       "    <tr>\n",
       "      <th>6280</th>\n",
       "      <td>2020-02-18</td>\n",
       "      <td>490.0</td>\n",
       "      <td>300.0</td>\n",
       "      <td>249.0</td>\n",
       "      <td>-14.3306</td>\n",
       "      <td>-170.7136</td>\n",
       "      <td>POINT (-170.71360 -14.33060)</td>\n",
       "      <td>1791</td>\n",
       "      <td>60050</td>\n",
       "      <td>WESTERN DISTRICT</td>\n",
       "    </tr>\n",
       "    <tr>\n",
       "      <th>6281</th>\n",
       "      <td>2020-02-19</td>\n",
       "      <td>765.0</td>\n",
       "      <td>303.0</td>\n",
       "      <td>233.0</td>\n",
       "      <td>-14.3306</td>\n",
       "      <td>-170.7136</td>\n",
       "      <td>POINT (-170.71360 -14.33060)</td>\n",
       "      <td>1791</td>\n",
       "      <td>60050</td>\n",
       "      <td>WESTERN DISTRICT</td>\n",
       "    </tr>\n",
       "  </tbody>\n",
       "</table>\n",
       "</div>"
      ],
      "text/plain": [
       "           Date  Precipitation  Tempreture_max  Tempreture_min  Latitude  \\\n",
       "6277 2020-02-15          130.0           290.0           256.0  -14.3306   \n",
       "6278 2020-02-16          810.0           283.0           257.0  -14.3306   \n",
       "6279 2020-02-17          831.0           290.0           251.0  -14.3306   \n",
       "6280 2020-02-18          490.0           300.0           249.0  -14.3306   \n",
       "6281 2020-02-19          765.0           303.0           233.0  -14.3306   \n",
       "\n",
       "      Longitude                      Geometry  Index_right   FIPS  \\\n",
       "6277  -170.7136  POINT (-170.71360 -14.33060)         1791  60050   \n",
       "6278  -170.7136  POINT (-170.71360 -14.33060)         1791  60050   \n",
       "6279  -170.7136  POINT (-170.71360 -14.33060)         1791  60050   \n",
       "6280  -170.7136  POINT (-170.71360 -14.33060)         1791  60050   \n",
       "6281  -170.7136  POINT (-170.71360 -14.33060)         1791  60050   \n",
       "\n",
       "            CountyName  \n",
       "6277  WESTERN DISTRICT  \n",
       "6278  WESTERN DISTRICT  \n",
       "6279  WESTERN DISTRICT  \n",
       "6280  WESTERN DISTRICT  \n",
       "6281  WESTERN DISTRICT  "
      ]
     },
     "execution_count": 35,
     "metadata": {},
     "output_type": "execute_result"
    }
   ],
   "source": [
    "weather.columns = ['Date', 'Precipitation', 'Tempreture_max', 'Tempreture_min', 'Latitude', 'Longitude', 'Geometry', 'Index_right', 'FIPS', 'CountyName']\n",
    "weather.head(5)"
   ]
  },
  {
   "cell_type": "code",
   "execution_count": 36,
   "metadata": {},
   "outputs": [
    {
     "data": {
      "text/plain": [
       "(1709877, 10)"
      ]
     },
     "execution_count": 36,
     "metadata": {},
     "output_type": "execute_result"
    }
   ],
   "source": [
    "weather.shape"
   ]
  },
  {
   "cell_type": "code",
   "execution_count": 40,
   "metadata": {},
   "outputs": [
    {
     "data": {
      "text/html": [
       "<div>\n",
       "<style scoped>\n",
       "    .dataframe tbody tr th:only-of-type {\n",
       "        vertical-align: middle;\n",
       "    }\n",
       "\n",
       "    .dataframe tbody tr th {\n",
       "        vertical-align: top;\n",
       "    }\n",
       "\n",
       "    .dataframe thead th {\n",
       "        text-align: right;\n",
       "    }\n",
       "</style>\n",
       "<table border=\"1\" class=\"dataframe\">\n",
       "  <thead>\n",
       "    <tr style=\"text-align: right;\">\n",
       "      <th></th>\n",
       "      <th></th>\n",
       "      <th>Precipitation</th>\n",
       "      <th>Tempreture_max</th>\n",
       "      <th>Tempreture_min</th>\n",
       "      <th>Latitude</th>\n",
       "      <th>Longitude</th>\n",
       "      <th>Index_right</th>\n",
       "    </tr>\n",
       "    <tr>\n",
       "      <th>FIPS</th>\n",
       "      <th>Date</th>\n",
       "      <th></th>\n",
       "      <th></th>\n",
       "      <th></th>\n",
       "      <th></th>\n",
       "      <th></th>\n",
       "      <th></th>\n",
       "    </tr>\n",
       "  </thead>\n",
       "  <tbody>\n",
       "    <tr>\n",
       "      <th rowspan=\"5\" valign=\"top\">01001</th>\n",
       "      <th>2020-02-19</th>\n",
       "      <td>241.0</td>\n",
       "      <td>138.211274</td>\n",
       "      <td>22.5347</td>\n",
       "      <td>32.6444</td>\n",
       "      <td>-86.4302</td>\n",
       "      <td>1328</td>\n",
       "    </tr>\n",
       "    <tr>\n",
       "      <th>2020-02-20</th>\n",
       "      <td>193.0</td>\n",
       "      <td>138.211274</td>\n",
       "      <td>22.5347</td>\n",
       "      <td>32.6444</td>\n",
       "      <td>-86.4302</td>\n",
       "      <td>1328</td>\n",
       "    </tr>\n",
       "    <tr>\n",
       "      <th>2020-02-21</th>\n",
       "      <td>262.0</td>\n",
       "      <td>138.211274</td>\n",
       "      <td>22.5347</td>\n",
       "      <td>32.6444</td>\n",
       "      <td>-86.4302</td>\n",
       "      <td>1328</td>\n",
       "    </tr>\n",
       "    <tr>\n",
       "      <th>2020-02-24</th>\n",
       "      <td>25.0</td>\n",
       "      <td>138.211274</td>\n",
       "      <td>22.5347</td>\n",
       "      <td>32.6444</td>\n",
       "      <td>-86.4302</td>\n",
       "      <td>1328</td>\n",
       "    </tr>\n",
       "    <tr>\n",
       "      <th>2020-02-25</th>\n",
       "      <td>213.0</td>\n",
       "      <td>138.211274</td>\n",
       "      <td>22.5347</td>\n",
       "      <td>32.6444</td>\n",
       "      <td>-86.4302</td>\n",
       "      <td>1328</td>\n",
       "    </tr>\n",
       "  </tbody>\n",
       "</table>\n",
       "</div>"
      ],
      "text/plain": [
       "                  Precipitation  Tempreture_max  Tempreture_min  Latitude  \\\n",
       "FIPS  Date                                                                  \n",
       "01001 2020-02-19          241.0      138.211274         22.5347   32.6444   \n",
       "      2020-02-20          193.0      138.211274         22.5347   32.6444   \n",
       "      2020-02-21          262.0      138.211274         22.5347   32.6444   \n",
       "      2020-02-24           25.0      138.211274         22.5347   32.6444   \n",
       "      2020-02-25          213.0      138.211274         22.5347   32.6444   \n",
       "\n",
       "                  Longitude  Index_right  \n",
       "FIPS  Date                                \n",
       "01001 2020-02-19   -86.4302         1328  \n",
       "      2020-02-20   -86.4302         1328  \n",
       "      2020-02-21   -86.4302         1328  \n",
       "      2020-02-24   -86.4302         1328  \n",
       "      2020-02-25   -86.4302         1328  "
      ]
     },
     "execution_count": 40,
     "metadata": {},
     "output_type": "execute_result"
    }
   ],
   "source": [
    "agg_weather = weather.groupby(['FIPS', 'Date']).mean()\n",
    "agg_weather.head(5)"
   ]
  },
  {
   "cell_type": "code",
   "execution_count": 38,
   "metadata": {},
   "outputs": [
    {
     "data": {
      "text/plain": [
       "(268083, 6)"
      ]
     },
     "execution_count": 38,
     "metadata": {},
     "output_type": "execute_result"
    }
   ],
   "source": [
    "agg_weather.shape"
   ]
  },
  {
   "cell_type": "code",
   "execution_count": null,
   "metadata": {},
   "outputs": [],
   "source": []
  }
 ],
 "metadata": {
  "kernelspec": {
   "display_name": "Python 3",
   "language": "python",
   "name": "python3"
  },
  "language_info": {
   "codemirror_mode": {
    "name": "ipython",
    "version": 3
   },
   "file_extension": ".py",
   "mimetype": "text/x-python",
   "name": "python",
   "nbconvert_exporter": "python",
   "pygments_lexer": "ipython3",
   "version": "3.7.3"
  }
 },
 "nbformat": 4,
 "nbformat_minor": 2
}
